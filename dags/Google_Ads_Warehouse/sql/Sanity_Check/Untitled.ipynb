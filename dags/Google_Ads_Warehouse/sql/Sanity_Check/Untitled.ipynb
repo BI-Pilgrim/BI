{
 "cells": [
  {
   "cell_type": "code",
   "execution_count": 1,
   "id": "619b1ddf-8001-4c98-8023-708c73a7f3d7",
   "metadata": {},
   "outputs": [],
   "source": [
    "import smtplib\n",
    "import sys\n",
    "import pandas as pd\n",
    "import pandas_gbq as pgbq\n",
    "from email.mime.base import MIMEBase\n",
    "from email.mime.multipart import MIMEMultipart\n",
    "from email.mime.text import MIMEText\n",
    "from email import encoders\n",
    "# from airflow.models import Variable\n",
    "from datetime import datetime, timedelta\n",
    "import os\n",
    "\n",
    "def send_sanity_check_email():\n",
    "    # Query the data from BigQuery\n",
    "    query = \"\"\"\n",
    "       SELECT * FROM `shopify-pubsub-project.Data_Warehouse_GoogleAds_Staging.Sanity_check`\n",
    "    \"\"\"\n",
    "    df = pgbq.read_gbq(query, project_id=\"shopify-pubsub-project\")\n",
    "    df = df.fillna({col: 0 for col in df.select_dtypes(include=['number']).columns})\n",
    "\n",
    "    # Handle NULL values to prevent errors\n",
    "    df['Source_max_date'] = pd.to_datetime(df['Source_max_date'], errors='coerce')\n",
    "    df['Staging_max_date'] = pd.to_datetime(df['Staging_max_date'], errors='coerce')\n",
    "    df['Date1'] = pd.to_datetime(df['Date1'], errors='coerce')  # Convert to datetime\n",
    "\n",
    "    # Subtract 3 days\n",
    "    df['Date1_minus_3'] = df['Date1'] - timedelta(days=3)\n",
    "\n",
    "    # print(df[['Date1', 'Date1_minus_3']])\n",
    "\n",
    "\n",
    "    # Apply filtering logic\n",
    "    filtered_df = df[(df['Source_max_date'] != df['Staging_max_date']) & (df['Staging_max_date'] != df['Latest_Valid_Date']) |\n",
    "                 (df['Source_max_date'] < (df['Date1']) - timedelta(days=1)) |\n",
    "                 (df['Source_pk_count'] != df['Staging_pk_count'])]\n",
    "    # print(\"The filtered_df is as -\",filtered_df.head())\n",
    "    return filtered_df"
   ]
  },
  {
   "cell_type": "code",
   "execution_count": 2,
   "id": "5e6790e2-c0d8-4c5c-ac88-f6b365227360",
   "metadata": {},
   "outputs": [
    {
     "name": "stdout",
     "output_type": "stream",
     "text": [
      "Downloading: 100%|\u001b[32m████████████████████████████████████████████████████████████████████████████████████████████████████\u001b[0m|\u001b[0m\n"
     ]
    }
   ],
   "source": [
    "new_df = send_sanity_check_email()"
   ]
  },
  {
   "cell_type": "code",
   "execution_count": 3,
   "id": "d217f6c7-0a8c-47eb-a507-bca1350fb871",
   "metadata": {},
   "outputs": [
    {
     "data": {
      "text/html": [
       "<div>\n",
       "<style scoped>\n",
       "    .dataframe tbody tr th:only-of-type {\n",
       "        vertical-align: middle;\n",
       "    }\n",
       "\n",
       "    .dataframe tbody tr th {\n",
       "        vertical-align: top;\n",
       "    }\n",
       "\n",
       "    .dataframe thead th {\n",
       "        text-align: right;\n",
       "    }\n",
       "</style>\n",
       "<table border=\"1\" class=\"dataframe\">\n",
       "  <thead>\n",
       "    <tr style=\"text-align: right;\">\n",
       "      <th></th>\n",
       "      <th>table_name</th>\n",
       "      <th>source_table</th>\n",
       "      <th>Source_max_date</th>\n",
       "      <th>Staging_max_date</th>\n",
       "      <th>Latest_Valid_Date</th>\n",
       "      <th>Date1</th>\n",
       "      <th>Source_pk_count</th>\n",
       "      <th>Staging_pk_count</th>\n",
       "      <th>Date1_minus_3</th>\n",
       "    </tr>\n",
       "  </thead>\n",
       "  <tbody>\n",
       "  </tbody>\n",
       "</table>\n",
       "</div>"
      ],
      "text/plain": [
       "Empty DataFrame\n",
       "Columns: [table_name, source_table, Source_max_date, Staging_max_date, Latest_Valid_Date, Date1, Source_pk_count, Staging_pk_count, Date1_minus_3]\n",
       "Index: []"
      ]
     },
     "execution_count": 3,
     "metadata": {},
     "output_type": "execute_result"
    }
   ],
   "source": [
    "new_df"
   ]
  },
  {
   "cell_type": "code",
   "execution_count": null,
   "id": "fe87293c-286e-49c4-8b4d-ad722eac7d1f",
   "metadata": {},
   "outputs": [],
   "source": []
  }
 ],
 "metadata": {
  "kernelspec": {
   "display_name": "Python 3 (ipykernel)",
   "language": "python",
   "name": "python3"
  },
  "language_info": {
   "codemirror_mode": {
    "name": "ipython",
    "version": 3
   },
   "file_extension": ".py",
   "mimetype": "text/x-python",
   "name": "python",
   "nbconvert_exporter": "python",
   "pygments_lexer": "ipython3",
   "version": "3.12.7"
  }
 },
 "nbformat": 4,
 "nbformat_minor": 5
}
