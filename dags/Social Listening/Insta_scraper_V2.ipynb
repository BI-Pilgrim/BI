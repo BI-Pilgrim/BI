{
 "cells": [
  {
   "cell_type": "code",
   "execution_count": 1,
   "id": "729a2f1e",
   "metadata": {},
   "outputs": [],
   "source": [
    "#Import dependencies\n",
    "from selenium import webdriver\n",
    "from selenium.webdriver.common.keys import Keys\n",
    "from selenium.webdriver.support import expected_conditions as EC\n",
    "from selenium.webdriver.common.by import By\n",
    "from selenium.webdriver.support.wait import WebDriverWait\n",
    "from selenium.webdriver.chrome.options import Options\n",
    "from selenium.common.exceptions import NoSuchElementException, TimeoutException\n",
    "import time\n",
    "import requests\n",
    "from bs4 import BeautifulSoup\n",
    "import re\n",
    "import config\n",
    "import json\n",
    "import os\n",
    "from urllib.parse import urlparse\n",
    "import csv\n",
    "import instaloader\n",
    "from datetime import datetime\n",
    "from moviepy.editor import AudioFileClip\n",
    "import pandas as pd"
   ]
  },
  {
   "cell_type": "code",
   "execution_count": 2,
   "id": "833b157f",
   "metadata": {},
   "outputs": [],
   "source": [
    "#specify the path to chromedriver.exe (download and save on your computer)\n",
    "driver = webdriver.Chrome()\n",
    "\n",
    "#open the webpage\n",
    "driver.get(\"https://www.instagram.com/\")"
   ]
  },
  {
   "cell_type": "code",
   "execution_count": 3,
   "id": "fbe88437",
   "metadata": {},
   "outputs": [],
   "source": [
    "#target username\n",
    "username = WebDriverWait(driver, 10).until(EC.element_to_be_clickable((By.CSS_SELECTOR, \"input[name='username']\")))\n",
    "password = WebDriverWait(driver, 10).until(EC.element_to_be_clickable((By.CSS_SELECTOR, \"input[name='password']\")))\n",
    "\n",
    "#enter username and password\n",
    "username.clear()\n",
    "username.send_keys(config.username)\n",
    "password.clear()\n",
    "password.send_keys(config.password)\n",
    "\n",
    "#target the login button and click it\n",
    "button = WebDriverWait(driver, 2).until(EC.element_to_be_clickable((By.CSS_SELECTOR, \"button[type='submit']\"))).click()"
   ]
  },
  {
   "cell_type": "code",
   "execution_count": 4,
   "id": "c4813345",
   "metadata": {},
   "outputs": [],
   "source": [
    "# not_button = WebDriverWait(driver, 10).until(EC.element_to_be_clickable((By.XPATH, '//button[contains(text(), \"Not Now\")]')))\n",
    "\n",
    "# not_button.click()"
   ]
  },
  {
   "cell_type": "code",
   "execution_count": 5,
   "id": "df9ee85d",
   "metadata": {},
   "outputs": [],
   "source": [
    "# Wait up to 10 seconds for the search button to be clickable on the web page\n",
    "search_button = WebDriverWait(driver, 10).until(EC.element_to_be_clickable((By.CSS_SELECTOR, 'svg[aria-label=\"Search\"]')))\n",
    "\n",
    "# Click the search button once it becomes clickable\n",
    "search_button.click()"
   ]
  },
  {
   "cell_type": "code",
   "execution_count": 6,
   "id": "aed26dce",
   "metadata": {},
   "outputs": [],
   "source": [
    "#target the search input field\n",
    "searchbox = WebDriverWait(driver, 10).until(EC.element_to_be_clickable((By.XPATH, \"//input[@placeholder='Search']\")))\n",
    "searchbox.clear()\n",
    "\n",
    "#search for the @handle or keyword (loop function will come here to loop through profiles)\n",
    "keyword = \"@omkarsadawarte\" # this needs to be replacd with a loop to open profiles step by step\n",
    "searchbox.send_keys(keyword)"
   ]
  },
  {
   "cell_type": "code",
   "execution_count": 7,
   "id": "f06c2e34",
   "metadata": {},
   "outputs": [
    {
     "name": "stdout",
     "output_type": "stream",
     "text": [
      "Clicked on the element for keyword: omkarsadawarte\n"
     ]
    }
   ],
   "source": [
    "# Check if the keyword starts with \"@\"\n",
    "if keyword.startswith(\"@\"):\n",
    "    # Removes the \"@\" symbol\n",
    "    keyword = keyword[1:]\n",
    "    \n",
    "try:\n",
    "    # Wait until the element with the specified XPath and text is present and clickable\n",
    "    first_result = WebDriverWait(driver, 10).until(\n",
    "        EC.element_to_be_clickable((By.XPATH, f'//span[text()=\"{keyword}\"]'))\n",
    "    )\n",
    "    #print(first_result)\n",
    "    \n",
    "    # Click on the found element\n",
    "    first_result.click()\n",
    "    print(f\"Clicked on the element for keyword: {keyword}\")\n",
    "except Exception as e:\n",
    "    print(f\"An error occurred: {e}, \\nProfile: {keyword} not found\")"
   ]
  },
  {
   "cell_type": "code",
   "execution_count": 8,
   "id": "1c79c06c",
   "metadata": {},
   "outputs": [],
   "source": [
    "# Get the initial page height\n",
    "initial_height = driver.execute_script(\"return document.body.scrollHeight\")\n",
    "\n",
    "# Create a list to store htmls\n",
    "soups = []\n",
    "\n",
    "while True:\n",
    "    # Scroll down to the bottom of the page\n",
    "    driver.execute_script(\"window.scrollTo(0, document.body.scrollHeight);\")\n",
    "\n",
    "    # Wait for a moment to allow new content to load (adjust as needed)\n",
    "    time.sleep(10)\n",
    "    \n",
    "    # Parse the HTML\n",
    "    html = driver.page_source\n",
    "    \n",
    "    # Create a BeautifulSoup object from the scraped HTML\n",
    "    soups.append(BeautifulSoup(html, 'html.parser'))\n",
    "\n",
    "    # Get the current page height\n",
    "    current_height = driver.execute_script(\"return document.body.scrollHeight\")\n",
    "\n",
    "    if current_height == initial_height:\n",
    "        break  # Exit the loop when you can't scroll further\n",
    " \n",
    "    initial_height = current_height  # Update the initial height for the next iteration"
   ]
  },
  {
   "cell_type": "code",
   "execution_count": 9,
   "id": "d7fa7a7b",
   "metadata": {},
   "outputs": [
    {
     "name": "stdout",
     "output_type": "stream",
     "text": [
      "before: 85, after: 32\n"
     ]
    }
   ],
   "source": [
    "# List to store the post image URLs\n",
    "post_urls = []\n",
    "\n",
    "for soup in soups:\n",
    "    # Find all anchor elements with href attributes\n",
    "    anchors = soup.find_all('a', href=True)\n",
    "    # print(anchors[9])\n",
    "    # print([anchor['href'] for anchor in anchors])  # Prints only the href attribute of each <a> tag\n",
    "    # print([anchor['href'] for anchor in anchors if anchor['href'].startswith((\"/p/\", \"/reel/\"))])\n",
    "\n",
    "    # Filter URLs that start with \"/p/\" or \"/reel/\"\n",
    "    post_urls.extend([anchor['href'] for anchor in anchors if anchor['href'].startswith((f\"/{keyword}/reel/\",f\"/{keyword}/p/\"))])\n",
    "    # print(post_urls[9])\n",
    "\n",
    "# Convert the list to a set to remove duplicates\n",
    "unique_post_urls = list(set(post_urls))\n",
    "\n",
    "print(f\"before: {len(post_urls)}, after: {len(unique_post_urls)}\")"
   ]
  },
  {
   "cell_type": "code",
   "execution_count": 10,
   "id": "9ce3e5c8",
   "metadata": {
    "collapsed": true,
    "jupyter": {
     "outputs_hidden": true
    }
   },
   "outputs": [
    {
     "name": "stdout",
     "output_type": "stream",
     "text": [
      "/omkarsadawarte/p/Cf9oCBkDh2M/\n",
      "/omkarsadawarte/p/B0ll9hdArwn/\n",
      "/omkarsadawarte/reel/CWtUzVYlySR/\n",
      "/omkarsadawarte/p/Cg6HzCeJTyE/\n",
      "/omkarsadawarte/p/BhVmcT7gEjh/\n",
      "/omkarsadawarte/p/BhEs-3hguVr/\n",
      "/omkarsadawarte/reel/BwuFOwMAU3F/\n",
      "/omkarsadawarte/p/B_ArIaMlv-r/\n",
      "/omkarsadawarte/p/B0cdOIxA3i2/\n",
      "/omkarsadawarte/p/BqBw4ncAURD/\n",
      "/omkarsadawarte/p/BwrtcaggIij/\n",
      "/omkarsadawarte/p/CejGIfcDAW9/\n",
      "/omkarsadawarte/p/CERq0VQF1eB/\n",
      "/omkarsadawarte/p/B7G4_uGllO6/\n",
      "/omkarsadawarte/p/BhTkP33AW50/\n",
      "/omkarsadawarte/reel/CWyMFnYor1w/\n",
      "/omkarsadawarte/p/CN_xBKarau0/\n",
      "/omkarsadawarte/p/Cdp5qRPpib8/\n",
      "/omkarsadawarte/p/Bv8GqvSADl0/\n",
      "/omkarsadawarte/reel/CiRfY85ql9g/\n",
      "/omkarsadawarte/reel/CiY9_qaPYqD/\n",
      "/omkarsadawarte/p/CMGyCGFrvQU/\n",
      "/omkarsadawarte/p/CL4JCc6rHiL/\n",
      "/omkarsadawarte/p/BpQuuIHgt51/\n",
      "/omkarsadawarte/p/B8BPODkl5Zd/\n",
      "/omkarsadawarte/p/Ch-Mq3gPE-u/\n",
      "/omkarsadawarte/p/CLzetB5LMdS/\n",
      "/omkarsadawarte/p/CLzeEMVr9-R/\n",
      "/omkarsadawarte/p/B0Ou8qUgPqX/\n",
      "/omkarsadawarte/p/BuTkiFrAlY5/\n",
      "/omkarsadawarte/p/BwxBzskAnp3/\n",
      "/omkarsadawarte/p/CDvoQMpF0dZ/\n"
     ]
    }
   ],
   "source": [
    "for items in unique_post_urls:\n",
    "    print(items)"
   ]
  },
  {
   "cell_type": "code",
   "execution_count": null,
   "id": "56782341-295c-4853-93d4-d26f51540f2f",
   "metadata": {},
   "outputs": [],
   "source": [
    "!pip install instaloader"
   ]
  },
  {
   "cell_type": "code",
   "execution_count": null,
   "id": "2a61c4bf-d211-486e-ab4d-2c7a616309a2",
   "metadata": {},
   "outputs": [],
   "source": [
    "# CODE BLOCK TO TEST POST DOWNLOAD FOR SINGLE POST\n",
    "# import instaloader\n",
    "\n",
    "# # Initialize Instaloader\n",
    "# loader = instaloader.Instaloader()\n",
    "\n",
    "# # URL of the Instagram post\n",
    "# post_url = \"https://www.instagram.com/p/POST_ID/\"  # Replace POST_ID with actual post ID or full URL\n",
    "\n",
    "# # Download the post\n",
    "# try:\n",
    "#     loader.download_post(instaloader.Post.from_shortcode(loader.context, \"POST_ID\"), target=\"downloaded_content\")\n",
    "#     print(\"Video downloaded successfully!\")\n",
    "# except Exception as e:\n",
    "#     print(\"An error occurred:\", e)\n"
   ]
  },
  {
   "cell_type": "code",
   "execution_count": 11,
   "id": "0b03b122-6976-437f-b183-d6365681630e",
   "metadata": {},
   "outputs": [
    {
     "name": "stdout",
     "output_type": "stream",
     "text": [
      "['Cf9oCBkDh2M', 'B0ll9hdArwn', 'CWtUzVYlySR', 'Cg6HzCeJTyE', 'BhVmcT7gEjh', 'BhEs-3hguVr', 'BwuFOwMAU3F', 'B_ArIaMlv-r', 'B0cdOIxA3i2', 'BqBw4ncAURD', 'BwrtcaggIij', 'CejGIfcDAW9', 'CERq0VQF1eB', 'B7G4_uGllO6', 'BhTkP33AW50', 'CWyMFnYor1w', 'CN_xBKarau0', 'Cdp5qRPpib8', 'Bv8GqvSADl0', 'CiRfY85ql9g', 'CiY9_qaPYqD', 'CMGyCGFrvQU', 'CL4JCc6rHiL', 'BpQuuIHgt51', 'B8BPODkl5Zd', 'Ch-Mq3gPE-u', 'CLzetB5LMdS', 'CLzeEMVr9-R', 'B0Ou8qUgPqX', 'BuTkiFrAlY5', 'BwxBzskAnp3', 'CDvoQMpF0dZ']\n",
      "\n",
      " Total unique post shortcodes: 32\n"
     ]
    }
   ],
   "source": [
    "import re\n",
    "\n",
    "# List to store extracted post shortcodes\n",
    "unique_post_shortcodes = []\n",
    "\n",
    "# # Loop through each URL and extract the post ID\n",
    "for text in unique_post_urls:\n",
    "    match = re.search(r'/(?:p|reel)/([^/]+)/', text)\n",
    "    if match:\n",
    "        post_id = match.group(1)   # gives the shortcode\n",
    "        unique_post_shortcodes.append(post_id)\n",
    "\n",
    "# Print the result\n",
    "print(unique_post_shortcodes)\n",
    "print(\"\\n Total unique post shortcodes: \" + str(len(unique_post_shortcodes)))"
   ]
  },
  {
   "cell_type": "code",
   "execution_count": null,
   "id": "77b6904f-bb60-429f-972b-c9266b441d37",
   "metadata": {
    "jupyter": {
     "source_hidden": true
    },
    "scrolled": true
   },
   "outputs": [],
   "source": [
    "# # # This is the best code (lacks replies extraction)\n",
    "# # # Extract caption, hashtags, and comments\n",
    "\n",
    "# # Initialize Instaloader\n",
    "# loader = instaloader.Instaloader()\n",
    "\n",
    "# # Login to Instagram using instaloader\n",
    "# # instagram login and instaloader login operate independently\n",
    "# username = config.username  # Replace with your Instagram username\n",
    "# password = config.password  # Replace with your Instagram password\n",
    "# loader.login(username, password)\n",
    "\n",
    "\n",
    "# # Create a folder for the posts \n",
    "# target_folder = \"downloaded_content\"\n",
    "# os.makedirs(target_folder, exist_ok=True)\n",
    "\n",
    "# # Loop through each post ID\n",
    "# for post_shortcode in unique_post_shortcodes:\n",
    "#     try:\n",
    "#         # Load the post\n",
    "#         post = instaloader.Post.from_shortcode(loader.context, post_shortcode)\n",
    "\n",
    "#         # Download media content for the post (create a separate function for downloading media)\n",
    "#         # create a check if the post_id was previously downloaded\n",
    "#         loader.download_post(post, target=target_folder)\n",
    "\n",
    "        \n",
    "\n",
    "# #         if post.caption:\n",
    "# #             caption = post.caption \n",
    "# #         else:\n",
    "# #             caption = \"No Captions\"\n",
    "        \n",
    "# #         if post.caption_hashtags:\n",
    "# #             hashtags = post.caption_hashtags\n",
    "# #         else:\n",
    "# #             hashtags = []\n",
    "        \n",
    "# #         # Handle comments as a list\n",
    "# #         comments = []\n",
    "# #         for comment in post.get_comments():\n",
    "# #             comments.append({\n",
    "# #                 \"user\": comment.owner.username,\n",
    "# #                 \"text\": comment.text,\n",
    "# #                 \"created_at\": comment.created_at_utc\n",
    "# #             })\n",
    "    \n",
    "# #         # Define a unique metadata file for each post\n",
    "# #         metadata_file_path = os.path.join(target_folder, f\"metadata.txt\")\n",
    "        \n",
    "# #         # Save caption, hashtags, and comments to a file in the target folder\n",
    "# #         with open(metadata_file_path, \"a\", encoding=\"utf-8\") as file:\n",
    "# #             file.write (f\"Post_ID: {post_shortcode}\")\n",
    "# #             file.write(\"Caption:\\n\")\n",
    "# #             file.write(caption + \"\\n\\n\")\n",
    "        \n",
    "# #             file.write(\"Hashtags:\\n\")\n",
    "# #             if hashtags:\n",
    "# #                 file.write(\" \".join(f\"#{tag}\" for tag in hashtags) + \"\\n\\n\")\n",
    "# #             else:\n",
    "# #                 file.write(\"  No Hashtags\" + \"\\n\\n\")\n",
    "        \n",
    "# #             file.write(\"Comments:\\n\")\n",
    "# #             if comments:\n",
    "# #                 for comment in comments:\n",
    "# #                     file.write(f\"{comment['user']} ({comment['created_at']}): {comment['text']}\\n\\n\")\n",
    "# #             else:\n",
    "# #                 file.write(\"  No Comments\\n\\n\")\n",
    "        \n",
    "# #         print(f\"Downloaded post and metadata for {post_shortcode} successfully!\")\n",
    "    \n",
    "#     except Exception as e:\n",
    "#         print(f\"An error occurred with post {post_shortcode}: {e}\")"
   ]
  },
  {
   "cell_type": "code",
   "execution_count": 19,
   "id": "feb99568-b543-4405-8d6d-3f12052264e2",
   "metadata": {},
   "outputs": [
    {
     "name": "stdout",
     "output_type": "stream",
     "text": [
      "An error occurred with post Cf9oCBkDh2M: 'Post' object has no attribute 'is_reel'\n",
      "An error occurred with post B0ll9hdArwn: 'Post' object has no attribute 'is_reel'\n",
      "downloaded_content﹨2024-11-15﹨omkarsadawarte﹨CWtUzVYlySR\\2021-11-25_18-07-03_UTC.jpg [Goodbyes can be very painful.…] downloaded_content﹨2024-11-15﹨omkarsadawarte﹨CWtUzVYlySR\\2021-11-25_18-07-03_UTC.mp4 json \n",
      "An error occurred with post Cg6HzCeJTyE: 'Post' object has no attribute 'is_reel'\n",
      "An error occurred with post BhVmcT7gEjh: 'Post' object has no attribute 'is_reel'\n",
      "An error occurred with post BhEs-3hguVr: 'Post' object has no attribute 'is_reel'\n",
      "downloaded_content﹨2024-11-15﹨omkarsadawarte﹨BwuFOwMAU3F\\2019-04-26_13-14-21_UTC.jpg [So cute 😍😍 #squirrel #nature …] downloaded_content﹨2024-11-15﹨omkarsadawarte﹨BwuFOwMAU3F\\2019-04-26_13-14-21_UTC.mp4 json \n",
      "An error occurred with post B_ArIaMlv-r: 'Post' object has no attribute 'is_reel'\n",
      "An error occurred with post B0cdOIxA3i2: 'Post' object has no attribute 'is_reel'\n",
      "An error occurred with post BqBw4ncAURD: 'Post' object has no attribute 'is_reel'\n",
      "An error occurred with post BwrtcaggIij: 'Post' object has no attribute 'is_reel'\n",
      "An error occurred with post CejGIfcDAW9: 'Post' object has no attribute 'is_reel'\n",
      "An error occurred with post CERq0VQF1eB: 'Post' object has no attribute 'is_reel'\n",
      "An error occurred with post B7G4_uGllO6: 'Post' object has no attribute 'is_reel'\n",
      "An error occurred with post BhTkP33AW50: 'Post' object has no attribute 'is_reel'\n",
      "downloaded_content﹨2024-11-15﹨omkarsadawarte﹨CWyMFnYor1w\\2021-11-27_15-28-42_UTC.jpg [\"Practice make a person perfe…] downloaded_content﹨2024-11-15﹨omkarsadawarte﹨CWyMFnYor1w\\2021-11-27_15-28-42_UTC.mp4 json \n",
      "An error occurred with post CN_xBKarau0: 'Post' object has no attribute 'is_reel'\n",
      "An error occurred with post Cdp5qRPpib8: 'Post' object has no attribute 'is_reel'\n",
      "An error occurred with post Bv8GqvSADl0: 'Post' object has no attribute 'is_reel'\n",
      "downloaded_content﹨2024-11-15﹨omkarsadawarte﹨CiRfY85ql9g\\2022-09-09_04-55-54_UTC.jpg [Be the one to call when I los…] downloaded_content﹨2024-11-15﹨omkarsadawarte﹨CiRfY85ql9g\\2022-09-09_04-55-54_UTC.mp4 json \n",
      "downloaded_content﹨2024-11-15﹨omkarsadawarte﹨CiY9_qaPYqD\\2022-09-12_02-51-51_UTC.jpg [Travel !! Because journey has…] downloaded_content﹨2024-11-15﹨omkarsadawarte﹨CiY9_qaPYqD\\2022-09-12_02-51-51_UTC.mp4 json \n",
      "An error occurred with post CMGyCGFrvQU: 'Post' object has no attribute 'is_reel'\n",
      "An error occurred with post CL4JCc6rHiL: 'Post' object has no attribute 'is_reel'\n",
      "An error occurred with post BpQuuIHgt51: 'Post' object has no attribute 'is_reel'\n",
      "An error occurred with post B8BPODkl5Zd: 'Post' object has no attribute 'is_reel'\n",
      "An error occurred with post Ch-Mq3gPE-u: 'Post' object has no attribute 'is_reel'\n",
      "An error occurred with post CLzetB5LMdS: 'Post' object has no attribute 'is_reel'\n",
      "An error occurred with post CLzeEMVr9-R: 'Post' object has no attribute 'is_reel'\n",
      "An error occurred with post B0Ou8qUgPqX: 'Post' object has no attribute 'is_reel'\n",
      "An error occurred with post BuTkiFrAlY5: 'Post' object has no attribute 'is_reel'\n",
      "An error occurred with post BwxBzskAnp3: 'Post' object has no attribute 'is_reel'\n",
      "An error occurred with post CDvoQMpF0dZ: 'Post' object has no attribute 'is_reel'\n",
      "Downloaded Video Media Files:\n"
     ]
    }
   ],
   "source": [
    "import os\n",
    "import instaloader\n",
    "from datetime import datetime\n",
    "\n",
    "# Initialize Instaloader\n",
    "loader = instaloader.Instaloader()\n",
    "\n",
    "# Login to Instagram using instaloader\n",
    "username = config.username  # Replace with your Instagram username\n",
    "password = config.password  # Replace with your Instagram password\n",
    "loader.login(username, password)\n",
    "\n",
    "from datetime import datetime\n",
    "\n",
    "keyword = ['omkarsadawarte']\n",
    "\n",
    "# Define target folder\n",
    "target_folder = \"downloaded_content\"\n",
    "# profile_folder = keyword[0]\n",
    "# today_date = datetime.now().strftime('%Y-%m-%d')  # Format: YYYY-MM-DD\n",
    "# target_folder = parent_folder + \"\\\\\" + str(today_date) + \"\\\\\" + str(profile_folder)\n",
    "os.makedirs(target_folder, exist_ok=True)\n",
    "\n",
    "# Example list of post shortcodes (replace with actual post shortcodes)\n",
    "# unique_post_shortcodes = ['Cf9oCBkDh2M', 'B0ll9hdArwn', 'CWtUzVYlySR', 'Cg6HzCeJTyE', 'BhVmcT7gEjh', 'BhEs-3hguVr', 'BwuFOwMAU3F', 'B_ArIaMlv-r', 'B0cdOIxA3i2', 'BqBw4ncAURD', 'BwrtcaggIij', 'CejGIfcDAW9', 'CERq0VQF1eB', 'B7G4_uGllO6', 'BhTkP33AW50', 'CWyMFnYor1w', 'CN_xBKarau0', 'Cdp5qRPpib8', 'Bv8GqvSADl0', 'CiRfY85ql9g', 'CiY9_qaPYqD', 'CMGyCGFrvQU', 'CL4JCc6rHiL', 'BpQuuIHgt51', 'B8BPODkl5Zd', 'Ch-Mq3gPE-u', 'CLzetB5LMdS', 'CLzeEMVr9-R', 'B0Ou8qUgPqX', 'BuTkiFrAlY5', 'BwxBzskAnp3', 'CDvoQMpF0dZ']\n",
    "\n",
    "# List to store paths of downloaded .mp4 files\n",
    "downloaded_media = []\n",
    "\n",
    "# Loop through each post shortcode\n",
    "for post_shortcode in unique_post_shortcodes:\n",
    "    try:\n",
    "        # Load the post\n",
    "        post = instaloader.Post.from_shortcode(loader.context, post_shortcode)\n",
    "\n",
    "        # Determine filename based on post type\n",
    "        if post.is_video:\n",
    "            filename = f\"{post.owner_username}_{post_shortcode}.mp4\"\n",
    "            \n",
    "            # Download the post\n",
    "            loader.download_post(post, target=target_folder)\n",
    "            \n",
    "            # Find and rename the downloaded .mp4 file\n",
    "            for file in os.listdir(target_folder):\n",
    "                if file.endswith(\".mp4\"):\n",
    "                    # Rename the file to our custom filename\n",
    "                    old_path = os.path.join(target_folder, file)\n",
    "                    new_path = os.path.join(target_folder, filename)\n",
    "                    os.rename(old_path, new_path)\n",
    "\n",
    "                    # Store the complete file path of the downloaded media\n",
    "                    file_path = r\"E:\\work\\web_scraping_101\\soc_listn\" +\"\\\\\"+ str(new_path)\n",
    "                    downloaded_media.append(file_path)\n",
    "                    print(f\"Downloaded and renamed file to: {filename}\")\n",
    "                    break  # Exit the loop once the file is renamed\n",
    "\n",
    "    except Exception as e:\n",
    "        print(f\"An error occurred with post {post_shortcode}: {e}\")\n",
    "\n",
    "# Print the list of downloaded video file paths\n",
    "print(\"Downloaded Media Files:\")\n",
    "for media in downloaded_media:\n",
    "    print(media)"
   ]
  },
  {
   "cell_type": "code",
   "execution_count": null,
   "id": "006c95eb-e00b-4ce1-ab1f-fe51c5cac418",
   "metadata": {
    "jupyter": {
     "source_hidden": true
    }
   },
   "outputs": [],
   "source": [
    "############# trial code(UPDATED) to extract caption, hashtag, comment, replies, likes_count, comments_count & save in a dataframe ##############\n",
    "\n",
    "# List to store all post data (flattened for DataFrame)\n",
    "post_info_list = []\n",
    "\n",
    "# Loop through each post ID\n",
    "for post_shortcode in unique_post_shortcodes:\n",
    "    try:\n",
    "        # Load the post\n",
    "        post = instaloader.Post.from_shortcode(loader.context, post_shortcode)\n",
    "\n",
    "        # Handle missing captions and hashtags\n",
    "        caption = post.caption if post.caption else \"No Captions\"\n",
    "        hashtags = post.caption_hashtags if post.caption_hashtags else []\n",
    "\n",
    "        # Get the likes and comments count\n",
    "        likes_count = post.likes\n",
    "        comments_count = post.comments\n",
    "\n",
    "        # List to hold comments and replies\n",
    "        comments_data = []\n",
    "\n",
    "        # Loop through each comment in the post\n",
    "        for comment in post.get_comments():\n",
    "            comment_info = {\n",
    "                \"user\": comment.owner.username,\n",
    "                \"text\": comment.text,\n",
    "                \"replies\": []\n",
    "            }\n",
    "\n",
    "            # Check if there are replies to the comment\n",
    "            if comment.answers:  # Ensure there are replies before processing\n",
    "                for reply in comment.answers:\n",
    "                    reply_info = {\n",
    "                        \"user\": reply.owner.username,\n",
    "                        \"text\": reply.text,\n",
    "                    }\n",
    "                    comment_info[\"replies\"].append(reply_info)\n",
    "\n",
    "            comments_data.append(comment_info)\n",
    "\n",
    "            # Check for pagination and load more comments if necessary\n",
    "            # while comment.has_more_comments:\n",
    "            #     comment.load_more_comments()  # Load more comments if there are more pages of comments\n",
    "                \n",
    "                #  processing the newly replies\n",
    "            for reply in comment.answers:\n",
    "                reply_info = {\n",
    "                    \"user\": reply.owner.username,\n",
    "                    \"text\": reply.text,\n",
    "                }\n",
    "                comment_info[\"replies\"].append(reply_info)\n",
    "\n",
    "        # Prepare post data to be added to the list\n",
    "        post_info = {\n",
    "            \"shortcode\": post_shortcode,\n",
    "            \"caption\": caption,\n",
    "            \"hashtags\": hashtags,\n",
    "            \"likes_count\": likes_count,\n",
    "            \"comments_count\": comments_count,\n",
    "            \"comments_data\": comments_data\n",
    "        }\n",
    "\n",
    "        # Append the post_info to the list\n",
    "        post_info_list.append(post_info)\n",
    "\n",
    "    except instaloader.exceptions.InstaloaderException as e:\n",
    "        print(f\"Error loading post {post_shortcode}: {e}\")\n",
    "        continue  # Handle the exception and continue with the next post\n",
    "\n",
    "# Now save the post_info_list to a pandas DataFrame\n",
    "df = pd.DataFrame(post_info_list)\n"
   ]
  },
  {
   "cell_type": "code",
   "execution_count": null,
   "id": "c59e1421-d174-482a-86ef-399b2beea221",
   "metadata": {
    "jupyter": {
     "source_hidden": true
    }
   },
   "outputs": [],
   "source": [
    "#################################################### example of how to flaten the structure ####################################################\n",
    "\n",
    "# flat_data = []\n",
    "\n",
    "# # Flatten the comments and replies data\n",
    "# for post_info in post_info_list:\n",
    "#     for comment in post_info['comments_data']:\n",
    "#         for reply in comment['replies']:\n",
    "#             flat_data.append({\n",
    "#                 \"shortcode\": post_info[\"shortcode\"],\n",
    "#                 \"caption\": post_info[\"caption\"],\n",
    "#                 \"hashtags\": post_info[\"hashtags\"],\n",
    "#                 \"likes_count\": post_info[\"likes_count\"],\n",
    "#                 \"comments_count\": post_info[\"comments_count\"],\n",
    "#                 \"comment_user\": comment[\"user\"],\n",
    "#                 \"comment_text\": comment[\"text\"],\n",
    "#                 \"reply_user\": reply[\"user\"],\n",
    "#                 \"reply_text\": reply[\"text\"]\n",
    "#             })\n",
    "\n",
    "# # Create a DataFrame from the flattened data\n",
    "# flat_df = pd.DataFrame(flat_data)\n",
    "\n",
    "# # Optionally, save the flattened DataFrame to a CSV file\n",
    "# flat_df.to_csv('flattened_post_data.csv', index=False)\n",
    "\n",
    "# # Display the flattened DataFrame\n",
    "# print(flat_df.head())\n"
   ]
  },
  {
   "cell_type": "code",
   "execution_count": null,
   "id": "63fc36fb-2ca0-4ce8-a63b-329b78679fcc",
   "metadata": {},
   "outputs": [],
   "source": [
    "df"
   ]
  },
  {
   "cell_type": "code",
   "execution_count": null,
   "id": "3fae880b-baff-4f12-a07e-ea3ed8e713dc",
   "metadata": {
    "jupyter": {
     "source_hidden": true
    }
   },
   "outputs": [],
   "source": [
    "######################### FUNCTIONALISED CODE TO EXTRACT POST DATA (captions, comments etc) AND SAVE IN A PANDAS DATAFRAME ##############################\n",
    "\n"
   ]
  },
  {
   "cell_type": "code",
   "execution_count": null,
   "id": "85f29745-8d5d-4fad-a6e3-6fee5f5686ca",
   "metadata": {
    "jupyter": {
     "source_hidden": true
    }
   },
   "outputs": [],
   "source": [
    "# # trail code to extract replies from comment (OLD, includes reply extraction)\n",
    "# # delete if it does not extract replies from comments\n",
    "\n",
    "# import instaloader\n",
    "\n",
    "# # Initialize Instaloader\n",
    "# loader = instaloader.Instaloader()\n",
    "\n",
    "# # Login to Instagram using instaloader\n",
    "# username = config.username  # Replace with your Instagram username\n",
    "# password = config.password  # Replace with your Instagram password\n",
    "# loader.login(username, password)\n",
    "\n",
    "# # Define the post shortcode you want to analyze\n",
    "# post_shortcode = \"CiY9_qaPYqD\"  # Replace with the Instagram post shortcode\n",
    "\n",
    "# # Load the post\n",
    "# post = instaloader.Post.from_shortcode(loader.context, post_shortcode)\n",
    "# #post = instaloader.Post.from_shortcode(loader.context, post_shortcode)\n",
    "\n",
    "# # List to hold comments and replies\n",
    "# comments_data = []\n",
    "\n",
    "# # Loop through each comment in the post\n",
    "# for comment in post.get_comments():\n",
    "#     comment_info = {\n",
    "#         \"user\": comment.owner.username,\n",
    "#         \"text\": comment.text,\n",
    "#         \"created_at\": comment.created_at_utc,\n",
    "#         \"replies\": []\n",
    "#     }\n",
    "\n",
    "#     # Check if there are replies to the comment\n",
    "#     for reply in comment.answers:\n",
    "#         reply_info = {\n",
    "#             \"user\": reply.owner.username,\n",
    "#             \"text\": reply.text,\n",
    "#             \"created_at\": reply.created_at_utc\n",
    "#         }\n",
    "#         comment_info[\"replies\"].append(reply_info)\n",
    "        \n",
    "#     comments_data.append(comment_info)\n",
    "\n",
    "# # Print comments and their replies\n",
    "# for comment in comments_data:\n",
    "#     print(f\"Comment by {comment['user']} ({comment['created_at']}): {comment['text']}\")\n",
    "#     for reply in comment[\"replies\"]:\n",
    "#         print(f\"  Reply from {reply['user']} ({reply['created_at']}): {reply['text']}\")"
   ]
  },
  {
   "cell_type": "code",
   "execution_count": null,
   "id": "9908fff4-f21b-4c0b-a3e3-4eec1d0c0de6",
   "metadata": {},
   "outputs": [],
   "source": [
    "!pip install moviepy"
   ]
  },
  {
   "cell_type": "code",
   "execution_count": 35,
   "id": "fc5d6b0f-7577-409a-822d-cfd2274cc20e",
   "metadata": {
    "scrolled": true
   },
   "outputs": [
    {
     "name": "stdout",
     "output_type": "stream",
     "text": [
      "Audio file saved as: E:\\work\\web_scraping_101\\soc_listn\\downloaded_content\\omkarsadawarte_CWtUzVYlySR.wav\n",
      "Audio file saved as: E:\\work\\web_scraping_101\\soc_listn\\downloaded_content\\omkarsadawarte_BwuFOwMAU3F.wav\n"
     ]
    }
   ],
   "source": [
    "########################################### CODE TO EXTRACT AUDIO FROM VIDEO ###################################################\n",
    "\n",
    "from moviepy.editor import VideoFileClip\n",
    "\n",
    "# Function to extract audio from a video file and save as .wav\n",
    "def extract_audio_as_wav(video_file_path):\n",
    "    # Set the path for the .wav audio file\n",
    "    audio_file_path = os.path.splitext(video_file_path)[0] + \".wav\"\n",
    "\n",
    "    try:\n",
    "        # Extract audio and save as .wav\n",
    "        with VideoFileClip(video_file_path) as video_clip:\n",
    "            video_clip.audio.write_audiofile(audio_file_path, codec='pcm_s16le',verbose = False, logger= None)\n",
    "        \n",
    "        print(f\"Audio file saved as: {audio_file_path}\")\n",
    "        return audio_file_path\n",
    "    except Exception as e:\n",
    "        print(f\"An error occurred: {e}, \\nProfile: {keyword} not found\")\n",
    "\n",
    "# Example usage\n",
    "# video_file_path = \"path/to/your/downloaded_video.mp4\"  # Replace with your actual video file path\n",
    "video_file_path = downloaded_media\n",
    "# video_file_path = r\"\"C:\\Users\\OMKAR\\Downloads\\Indian Biscuits Fact 😂 _ Viral Comedy Video_ Funny Whatsapp Status #priyalkukreja #shorts #ytshorts.mp4\"  # Replace with your actual video file path\n",
    "# audio_file = extract_audio_as_wav(video_file_path)\n",
    "saved_audio_files = []\n",
    "for video_path in video_file_path:\n",
    "    audio_file = extract_audio_as_wav(video_path)"
   ]
  },
  {
   "cell_type": "code",
   "execution_count": 59,
   "id": "918bd8c8-ef5d-458f-9bae-3afe4a4da6cd",
   "metadata": {},
   "outputs": [
    {
     "name": "stdout",
     "output_type": "stream",
     "text": [
      "All file paths:\n",
      "['E:\\\\work\\\\web_scraping_101\\\\soc_listn\\\\downloaded_content\\\\omkarsadawarte_CWtUzVYlySR.wav', 'E:\\\\work\\\\web_scraping_101\\\\soc_listn\\\\downloaded_content\\\\omkarsadawarte_BwuFOwMAU3F.wav']\n"
     ]
    }
   ],
   "source": [
    "####################################### CODE TO SAVE THE FILE PATH OF ALL AUDIO FILES IN A LIST ####################################\n",
    "\n",
    "import os\n",
    "\n",
    "# Specify the target directory\n",
    "directory = \"E:\\\\work\\\\web_scraping_101\\\\soc_listn\\\\downloaded_content\"\n",
    "\n",
    "# Set to store unique file paths\n",
    "audio_file_paths = set()\n",
    "\n",
    "# Loop through all files in the directory\n",
    "for root, dirs, files in os.walk(directory):\n",
    "    for file in files:\n",
    "        if file.endswith(\".wav\"):\n",
    "            # Construct the full file path\n",
    "            full_path = os.path.join(root, file)\n",
    "            # Add the file path to the set (duplicates will be automatically ignored)\n",
    "            audio_file_paths.add(full_path)\n",
    "\n",
    "# Convert the set back to a list (if you need it as a list)\n",
    "audio_file_paths = list(audio_file_paths)\n",
    "\n",
    "# Print the list of file paths\n",
    "print(\"All file paths:\")\n",
    "print(audio_file_paths)\n"
   ]
  },
  {
   "cell_type": "code",
   "execution_count": null,
   "id": "924f8c6f-f950-41da-a190-e3633d18c0cb",
   "metadata": {},
   "outputs": [],
   "source": []
  },
  {
   "cell_type": "code",
   "execution_count": 61,
   "id": "aa87d050-9af3-4573-aae2-5a8a55eb1a2c",
   "metadata": {},
   "outputs": [
    {
     "name": "stdout",
     "output_type": "stream",
     "text": [
      "Detected Language: ja\n",
      "Transcription: ボクシングする意味 知ることをできた君に感謝していますえっ? 僕に?祖国に帰ったら 君に教わったことを後輩に伝えていきたいそして自慢する僕 日本で強いボクサーと戦ってきたと一歩幕のうちという 素晴らしいファイターと戦ってきたとねそんなその時はチャンピオンでいてほしい日本じゃなく もっとスケールの大きな日本じゃない約束できなくていいです今はボルグボルグボルグ時間 行かなくてはもう 古くなったけど君に持っていてほしい長くいるつもりだったから一生懸命日本を覚えた祖国戻ったら二度と使うことはないでしょうだからこれ 僕の最後の日本を幕のうちさようなら僕は僕は僕は僕は僕は僕は僕は僕は僕は僕は僕は僕は僕を忘れませんボルグさんのことをボルグさんと戦ったことを絶対忘れません\n",
      "Detected Language: jw\n",
      "Transcription:  වවවවවවවවවවවවවවවවවවවවවවවවවවවවවවවවවවවවවවවවවවවවවවවවවවවවවවවවවවවවවවවවවවවවවවවවවවවවවවවවවවවවවවවවවවවවවවවවවවවවවවවවවවවවවවව වවවවවවවවවවවවවවවවවවවවවවවවවවවවවවවවවවවවවවවවවවවවවවවවවවවවවවවවවවවවවවවවවවවවවවවවවවවවවවවවවවවවවවවවවවවවවවවවවවවවවවවවවවවවවව\n"
     ]
    }
   ],
   "source": [
    "from pathlib import Path\n",
    "import whisper\n",
    "\n",
    "# Load the Whisper model\n",
    "model = whisper.load_model(\"small\")\n",
    "\n",
    "for audio_file in audio_file_paths:\n",
    "    \n",
    "    # Use Pathlib to define the path\n",
    "    path = Path(str(audio_file))\n",
    "    \n",
    "    # Check if the file exists before transcribing\n",
    "    if not path.exists():\n",
    "        print(f\"File not found: {audio_file_path}\")\n",
    "    else:\n",
    "        # Transcribe the audio file\n",
    "        result = model.transcribe(str(audio_file))\n",
    "    \n",
    "        # Print detected language and transcription\n",
    "        print(\"Detected Language:\", result[\"language\"])\n",
    "        print(\"Transcription:\", result[\"text\"])\n"
   ]
  },
  {
   "cell_type": "code",
   "execution_count": null,
   "id": "0c1d1bef-92cf-4a0a-b60e-a1cd3af41056",
   "metadata": {},
   "outputs": [],
   "source": []
  }
 ],
 "metadata": {
  "kernelspec": {
   "display_name": "Python 3 (ipykernel)",
   "language": "python",
   "name": "python3"
  },
  "language_info": {
   "codemirror_mode": {
    "name": "ipython",
    "version": 3
   },
   "file_extension": ".py",
   "mimetype": "text/x-python",
   "name": "python",
   "nbconvert_exporter": "python",
   "pygments_lexer": "ipython3",
   "version": "3.12.5"
  }
 },
 "nbformat": 4,
 "nbformat_minor": 5
}
